{
 "cells": [
  {
   "cell_type": "code",
   "execution_count": 1,
   "metadata": {},
   "outputs": [],
   "source": [
    "#HIERARCHICAL CLUSTERING-AGGLOMERATIVE\n",
    "#We will be looking at a clustering technique, which is Agglomerative Hierarchical Clustering. \n",
    "#Remember that agglomerative is the bottom up approach.\n",
    "\n",
    "#In this lab, we will be looking at Agglomerative clustering, which is more popular than Divisive clustering.\n",
    "\n",
    "#We will also be using Complete Linkage as the Linkage Criteria."
   ]
  },
  {
   "cell_type": "code",
   "execution_count": 2,
   "metadata": {},
   "outputs": [],
   "source": [
    "#Packages\n",
    "import numpy as np \n",
    "import pandas as pd\n",
    "from scipy import ndimage \n",
    "from scipy.cluster import hierarchy \n",
    "from scipy.spatial import distance_matrix \n",
    "from matplotlib import pyplot as plt \n",
    "from sklearn import manifold, datasets \n",
    "from sklearn.cluster import AgglomerativeClustering \n",
    "from sklearn.datasets.samples_generator import make_blobs \n",
    "%matplotlib inline"
   ]
  },
  {
   "cell_type": "code",
   "execution_count": 3,
   "metadata": {},
   "outputs": [],
   "source": [
    "#Generating Random Data\n",
    "#We will be generating a set of data using the make_blobs class.\n",
    "\n",
    "#Input these parameters into make_blobs:\n",
    "    #n_samples: The total number of points equally divided among clusters.\n",
    "        #Choose a number from 10-1500\n",
    "    #centers: The number of centers to generate, or the fixed center locations.\n",
    "        #Choose arrays of x,y coordinates for generating the centers. Have 1-10 centers (ex. centers=[[1,1], [2,5]])\n",
    "    #cluster_std: The standard deviation of the clusters. The larger the number, the further apart the clusters\n",
    "        #Choose a number between 0.5-1.5\n",
    "        \n"
   ]
  },
  {
   "cell_type": "code",
   "execution_count": 4,
   "metadata": {},
   "outputs": [],
   "source": [
    "X1, y1 = make_blobs(n_samples=50, centers=[[4,4], [-2, -1], [1, 1], [10,4]], cluster_std=0.9)"
   ]
  },
  {
   "cell_type": "code",
   "execution_count": 5,
   "metadata": {},
   "outputs": [
    {
     "data": {
      "text/plain": [
       "<matplotlib.collections.PathCollection at 0x1d298ff4eb8>"
      ]
     },
     "execution_count": 5,
     "metadata": {},
     "output_type": "execute_result"
    },
    {
     "data": {
      "image/png": "[encoded data removed]",
      "text/plain": [
       "<Figure size 432x288 with 1 Axes>"
      ]
     },
     "metadata": {
      "needs_background": "light"
     },
     "output_type": "display_data"
    }
   ],
   "source": [
    "#Plot the scatter plot of the randomly generated data\n",
    "plt.scatter(X1[:, 0], X1[:, 1], marker='o') "
   ]
  },
  {
   "cell_type": "code",
   "execution_count": 6,
   "metadata": {},
   "outputs": [],
   "source": [
    "#Agglomerative Clustering\n",
    "#We will start by clustering the random data points we just created.\n",
    "#The Agglomerative Clustering class will require two inputs:\n",
    "\n",
    "    #n_clusters: The number of clusters to form as well as the number of centroids to generate.\n",
    "        #Value will be: 4\n",
    "    #linkage: Which linkage criterion to use. \n",
    "        #The linkage criterion determines which distance to use between sets of observation. \n",
    "        #The algorithm will merge the pairs of cluster that minimize this criterion.\n",
    "        #Value will be: 'complete'\n",
    "        #Note: It is recommended you try everything with 'average' as well\n",
    "\n",
    "#Save the result to a variable called agglom"
   ]
  },
  {
   "cell_type": "code",
   "execution_count": 6,
   "metadata": {},
   "outputs": [],
   "source": [
    "agglom = AgglomerativeClustering(n_clusters = 4, linkage = 'average')"
   ]
  },
  {
   "cell_type": "code",
   "execution_count": 7,
   "metadata": {},
   "outputs": [
    {
     "data": {
      "text/plain": [
       "AgglomerativeClustering(affinity='euclidean', compute_full_tree='auto',\n",
       "                        connectivity=None, distance_threshold=None,\n",
       "                        linkage='average', memory=None, n_clusters=4,\n",
       "                        pooling_func='deprecated')"
      ]
     },
     "execution_count": 7,
     "metadata": {},
     "output_type": "execute_result"
    }
   ],
   "source": [
    "#Fit the model with X2 and y2 from the generated data above.\n",
    "agglom.fit(X1,y1)"
   ]
  },
  {
   "cell_type": "code",
   "execution_count": 8,
   "metadata": {},
   "outputs": [],
   "source": [
    "#Run the following code to show the clustering!\n",
    "#Remember to read the code and comments to gain more understanding on how the plotting works."
   ]
  },
  {
   "cell_type": "code",
   "execution_count": 9,
   "metadata": {},
   "outputs": [
    {
     "data": {
      "image/png": "[encoded data removed]",
      "text/plain": [
       "<Figure size 432x288 with 1 Axes>"
      ]
     },
     "metadata": {},
     "output_type": "display_data"
    }
   ],
   "source": [
    "# Create a figure of size 6 inches by 4 inches.\n",
    "plt.figure(figsize=(6,4))\n",
    "\n",
    "# These two lines of code are used to scale the data points down,\n",
    "# Or else the data points will be scattered very far apart.\n",
    "\n",
    "# Create a minimum and maximum range of X1.\n",
    "x_min, x_max = np.min(X1, axis=0), np.max(X1, axis=0)\n",
    "\n",
    "# Get the average distance for X1.\n",
    "X1 = (X1 - x_min) / (x_max - x_min)\n",
    "\n",
    "# This loop displays all of the datapoints.\n",
    "for i in range(X1.shape[0]):\n",
    "    # Replace the data points with their respective cluster value \n",
    "    # (ex. 0) and is color coded with a colormap (plt.cm.spectral)\n",
    "    plt.text(X1[i, 0], X1[i, 1], str(y1[i]),\n",
    "             color=plt.cm.nipy_spectral(agglom.labels_[i] / 10.),\n",
    "             fontdict={'weight': 'bold', 'size': 9})\n",
    "    \n",
    "# Remove the x ticks, y ticks, x and y axis\n",
    "plt.xticks([])\n",
    "plt.yticks([])\n",
    "#plt.axis('off')\n",
    "\n",
    "\n",
    "\n",
    "# Display the plot of the original data before clustering\n",
    "plt.scatter(X1[:, 0], X1[:, 1], marker='.')\n",
    "# Display the plot\n",
    "plt.show()"
   ]
  },
  {
   "cell_type": "code",
   "execution_count": 12,
   "metadata": {},
   "outputs": [
    {
     "name": "stdout",
     "output_type": "stream",
     "text": [
      "[[0.         1.03375373 0.67529924 ... 0.42499652 0.26338453 0.28715996]\n",
      " [1.03375373 0.         0.52644195 ... 0.75466348 0.77356291 0.75032539]\n",
      " [0.67529924 0.52644195 0.         ... 0.27670676 0.43471874 0.41397343]\n",
      " ...\n",
      " [0.42499652 0.75466348 0.27670676 ... 0.         0.24356458 0.23424046]\n",
      " [0.26338453 0.77356291 0.43471874 ... 0.24356458 0.         0.02378626]\n",
      " [0.28715996 0.75032539 0.41397343 ... 0.23424046 0.02378626 0.        ]]\n"
     ]
    }
   ],
   "source": [
    "#Dendrogram Associated for the Agglomerative Hierarchical Clustering\n",
    "\n",
    "#Remember that a distance matrix contains the distance from each point to every other point of a dataset.\n",
    "#Use the function distance_matrix, which requires two inputs. \n",
    "#Use the Feature Matrix, X2 as both inputs and save the distance matrix to a variable called dist_matrix\n",
    "\n",
    "#Remember that the distance values are symmetric, with a diagonal of 0's. \n",
    "#This is one way of making sure your matrix is correct.\n",
    "#(print out dist_matrix to make sure it's correct)\n",
    "dist_matrix = distance_matrix(X1,X1) \n",
    "print(dist_matrix)"
   ]
  },
  {
   "cell_type": "code",
   "execution_count": 13,
   "metadata": {},
   "outputs": [],
   "source": [
    "#Using the linkage class from hierarchy, pass in the parameters:\n",
    "\n",
    "    #The distance matrix\n",
    "    #'complete' for complete linkage\n",
    "\n",
    "#Save the result to a variable called Z"
   ]
  },
  {
   "cell_type": "code",
   "execution_count": 14,
   "metadata": {},
   "outputs": [
    {
     "name": "stderr",
     "output_type": "stream",
     "text": [
      "C:\\ProgramData\\Anaconda3\\lib\\site-packages\\ipykernel_launcher.py:1: ClusterWarning: scipy.cluster: The symmetric non-negative hollow observation matrix looks suspiciously like an uncondensed distance matrix\n",
      "  \"\"\"Entry point for launching an IPython kernel.\n"
     ]
    }
   ],
   "source": [
    "Z = hierarchy.linkage(dist_matrix, 'complete')"
   ]
  },
  {
   "cell_type": "code",
   "execution_count": 14,
   "metadata": {},
   "outputs": [],
   "source": [
    "#A Hierarchical clustering is typically visualized as a dendrogram as shown in the following cell. \n",
    "#Each merge is represented by a horizontal line. \n",
    "#The y-coordinate of the horizontal line is the similarity of the two clusters that were merged, \n",
    "#where cities are viewed as singleton clusters. \n",
    "\n",
    "#By moving up from the bottom layer to the top node, a dendrogram allows us to reconstruct the history of merges that \n",
    "#resulted in the depicted clustering.\n",
    "\n",
    "#Next, we will save the dendrogram to a variable called dendro. \n",
    "#In doing this, the dendrogram will also be displayed. Using the dendrogram class from hierarchy, pass in the parameter:"
   ]
  },
  {
   "cell_type": "code",
   "execution_count": 15,
   "metadata": {},
   "outputs": [
    {
     "data": {
      "image/png": "[encoded data removed]",
      "text/plain": [
       "<Figure size 432x288 with 1 Axes>"
      ]
     },
     "metadata": {
      "needs_background": "light"
     },
     "output_type": "display_data"
    }
   ],
   "source": [
    "dendro = hierarchy.dendrogram(Z)"
   ]
  },
  {
   "cell_type": "code",
   "execution_count": 16,
   "metadata": {},
   "outputs": [
    {
     "name": "stderr",
     "output_type": "stream",
     "text": [
      "C:\\ProgramData\\Anaconda3\\lib\\site-packages\\ipykernel_launcher.py:2: ClusterWarning: scipy.cluster: The symmetric non-negative hollow observation matrix looks suspiciously like an uncondensed distance matrix\n",
      "  \n"
     ]
    },
    {
     "data": {
      "image/png": "[encoded data removed]",
      "text/plain": [
       "<Figure size 432x288 with 1 Axes>"
      ]
     },
     "metadata": {
      "needs_background": "light"
     },
     "output_type": "display_data"
    }
   ],
   "source": [
    "#AVERAGE LINKAGE\n",
    "Z = hierarchy.linkage(dist_matrix, 'average')\n",
    "dendro = hierarchy.dendrogram(Z)"
   ]
  },
  {
   "cell_type": "code",
   "execution_count": null,
   "metadata": {},
   "outputs": [],
   "source": []
  }
 ],
 "metadata": {
  "kernelspec": {
   "display_name": "Python 3",
   "language": "python",
   "name": "python3"
  },
  "language_info": {
   "codemirror_mode": {
    "name": "ipython",
    "version": 3
   },
   "file_extension": ".py",
   "mimetype": "text/x-python",
   "name": "python",
   "nbconvert_exporter": "python",
   "pygments_lexer": "ipython3",
   "version": "3.7.1"
  }
 },
 "nbformat": 4,
 "nbformat_minor": 2
}
